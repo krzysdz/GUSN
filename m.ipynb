{
 "cells": [
  {
   "cell_type": "code",
   "execution_count": 1,
   "metadata": {},
   "outputs": [
    {
     "name": "stdout",
     "output_type": "stream",
     "text": [
      "WARNING:tensorflow:From f:\\FPGA\\GUSN\\.venv\\Lib\\site-packages\\tf_keras\\src\\losses.py:2976: The name tf.losses.sparse_softmax_cross_entropy is deprecated. Please use tf.compat.v1.losses.sparse_softmax_cross_entropy instead.\n",
      "\n"
     ]
    }
   ],
   "source": [
    "import tensorflow as tf\n",
    "import tensorflow_model_optimization as tfmot\n",
    "mnist = tf.keras.datasets.mnist"
   ]
  },
  {
   "cell_type": "code",
   "execution_count": 2,
   "metadata": {},
   "outputs": [],
   "source": [
    "(x_train, y_train),(x_test, y_test) = mnist.load_data()"
   ]
  },
  {
   "cell_type": "code",
   "execution_count": 3,
   "metadata": {},
   "outputs": [
    {
     "name": "stdout",
     "output_type": "stream",
     "text": [
      "WARNING:tensorflow:From f:\\FPGA\\GUSN\\.venv\\Lib\\site-packages\\tf_keras\\src\\backend.py:873: The name tf.get_default_graph is deprecated. Please use tf.compat.v1.get_default_graph instead.\n",
      "\n"
     ]
    }
   ],
   "source": [
    "model = tf.keras.models.Sequential([\n",
    "  tf.keras.layers.Flatten(input_shape=(28, 28)),\n",
    "  tf.keras.layers.Dense(128, activation='relu'),\n",
    "  tf.keras.layers.Dropout(0.2),\n",
    "  tf.keras.layers.Dense(10, activation='softmax')\n",
    "])"
   ]
  },
  {
   "cell_type": "code",
   "execution_count": 4,
   "metadata": {},
   "outputs": [],
   "source": [
    "q_aware_model = tfmot.quantization.keras.quantize_model(model)"
   ]
  },
  {
   "cell_type": "code",
   "execution_count": 5,
   "metadata": {},
   "outputs": [
    {
     "name": "stdout",
     "output_type": "stream",
     "text": [
      "WARNING:tensorflow:From f:\\FPGA\\GUSN\\.venv\\Lib\\site-packages\\tf_keras\\src\\optimizers\\__init__.py:317: The name tf.train.Optimizer is deprecated. Please use tf.compat.v1.train.Optimizer instead.\n",
      "\n",
      "Epoch 1/5\n",
      "WARNING:tensorflow:From f:\\FPGA\\GUSN\\.venv\\Lib\\site-packages\\tf_keras\\src\\utils\\tf_utils.py:492: The name tf.ragged.RaggedTensorValue is deprecated. Please use tf.compat.v1.ragged.RaggedTensorValue instead.\n",
      "\n",
      "WARNING:tensorflow:From f:\\FPGA\\GUSN\\.venv\\Lib\\site-packages\\tf_keras\\src\\engine\\base_layer_utils.py:384: The name tf.executing_eagerly_outside_functions is deprecated. Please use tf.compat.v1.executing_eagerly_outside_functions instead.\n",
      "\n",
      "1875/1875 [==============================] - 3s 1ms/step - loss: 3.1005 - accuracy: 0.1782\n",
      "Epoch 2/5\n",
      "1875/1875 [==============================] - 2s 1ms/step - loss: 88.8932 - accuracy: 0.2972\n",
      "Epoch 3/5\n",
      "1875/1875 [==============================] - 2s 1ms/step - loss: 107.7350 - accuracy: 0.8558\n",
      "Epoch 4/5\n",
      "1875/1875 [==============================] - 2s 1ms/step - loss: 26.7157 - accuracy: 0.9078\n",
      "Epoch 5/5\n",
      "1875/1875 [==============================] - 2s 1ms/step - loss: 11.6009 - accuracy: 0.9267\n",
      "313/313 [==============================] - 0s 792us/step - loss: 6.6073 - accuracy: 0.9460\n",
      "Model: \"sequential\"\n",
      "_________________________________________________________________\n",
      " Layer (type)                Output Shape              Param #   \n",
      "=================================================================\n",
      " quantize_layer (QuantizeLa  (None, 28, 28)            3         \n",
      " yer)                                                            \n",
      "                                                                 \n",
      " quant_flatten (QuantizeWra  (None, 784)               1         \n",
      " pperV2)                                                         \n",
      "                                                                 \n",
      " quant_dense (QuantizeWrapp  (None, 128)               100485    \n",
      " erV2)                                                           \n",
      "                                                                 \n",
      " quant_dropout (QuantizeWra  (None, 128)               1         \n",
      " pperV2)                                                         \n",
      "                                                                 \n",
      " quant_dense_1 (QuantizeWra  (None, 10)                1295      \n",
      " pperV2)                                                         \n",
      "                                                                 \n",
      "=================================================================\n",
      "Total params: 101785 (397.60 KB)\n",
      "Trainable params: 101770 (397.54 KB)\n",
      "Non-trainable params: 15 (60.00 Byte)\n",
      "_________________________________________________________________\n"
     ]
    }
   ],
   "source": [
    "q_aware_model.compile(optimizer='adam',\n",
    "  loss='sparse_categorical_crossentropy',\n",
    "  metrics=['accuracy'])\n",
    "\n",
    "q_aware_model.fit(x_train, y_train, epochs=5)\n",
    "q_aware_model.evaluate(x_test, y_test)\n",
    "q_aware_model.summary()"
   ]
  },
  {
   "cell_type": "code",
   "execution_count": 6,
   "metadata": {},
   "outputs": [
    {
     "ename": "ValueError",
     "evalue": "in user code:\n\n    File \"f:\\FPGA\\GUSN\\.venv\\Lib\\site-packages\\tf_keras\\src\\engine\\training.py\", line 2436, in predict_function  *\n        return step_function(self, iterator)\n    File \"f:\\FPGA\\GUSN\\.venv\\Lib\\site-packages\\tf_keras\\src\\engine\\training.py\", line 2421, in step_function  **\n        outputs = model.distribute_strategy.run(run_step, args=(data,))\n    File \"f:\\FPGA\\GUSN\\.venv\\Lib\\site-packages\\tf_keras\\src\\engine\\training.py\", line 2409, in run_step  **\n        outputs = model.predict_step(data)\n    File \"f:\\FPGA\\GUSN\\.venv\\Lib\\site-packages\\tf_keras\\src\\engine\\training.py\", line 2377, in predict_step\n        return self(x, training=False)\n    File \"f:\\FPGA\\GUSN\\.venv\\Lib\\site-packages\\tf_keras\\src\\utils\\traceback_utils.py\", line 70, in error_handler\n        raise e.with_traceback(filtered_tb) from None\n    File \"C:\\Users\\krzys\\AppData\\Local\\Temp\\__autograph_generated_fileaxmok7em.py\", line 75, in tf__call\n        ag__.if_stmt('training' in ag__.ld(args), if_body_1, else_body_1, get_state_3, set_state_3, ('outputs',), 1)\n    File \"C:\\Users\\krzys\\AppData\\Local\\Temp\\__autograph_generated_fileaxmok7em.py\", line 73, in else_body_1\n        outputs = ag__.converted_call(ag__.ld(self).layer.call, (ag__.ld(inputs),), dict(**ag__.ld(kwargs)), fscope)\n\n    ValueError: Exception encountered when calling layer 'quant_dense' (type QuantizeWrapperV2).\n    \n    in user code:\n    \n        File \"f:\\FPGA\\GUSN\\.venv\\Lib\\site-packages\\tensorflow_model_optimization\\python\\core\\quantization\\keras\\quantize_wrapper.py\", line 179, in call  *\n            outputs = self.layer.call(inputs, **kwargs)\n        File \"f:\\FPGA\\GUSN\\.venv\\Lib\\site-packages\\tf_keras\\src\\layers\\core\\dense.py\", line 241, in call  **\n            outputs = tf.matmul(a=inputs, b=self.kernel)\n    \n        ValueError: Dimensions must be equal, but are 28 and 784 for '{{node sequential/quant_dense/MatMul}} = MatMul[T=DT_FLOAT, grad_a=false, grad_b=false, transpose_a=false, transpose_b=false](sequential/quant_flatten/Reshape, sequential/quant_dense/LastValueQuant/FakeQuantWithMinMaxVars)' with input shapes: [?,28], [784,128].\n    \n    \n    Call arguments received by layer 'quant_dense' (type QuantizeWrapperV2):\n      • inputs=tf.Tensor(shape=(None, 28), dtype=float32)\n      • training=False\n      • kwargs=<class 'inspect._empty'>\n",
     "output_type": "error",
     "traceback": [
      "\u001b[31m---------------------------------------------------------------------------\u001b[39m",
      "\u001b[31mValueError\u001b[39m                                Traceback (most recent call last)",
      "\u001b[36mCell\u001b[39m\u001b[36m \u001b[39m\u001b[32mIn[6]\u001b[39m\u001b[32m, line 1\u001b[39m\n\u001b[32m----> \u001b[39m\u001b[32m1\u001b[39m \u001b[43mq_aware_model\u001b[49m\u001b[43m.\u001b[49m\u001b[43mpredict\u001b[49m\u001b[43m(\u001b[49m\u001b[43mx_test\u001b[49m\u001b[43m[\u001b[49m\u001b[32;43m0\u001b[39;49m\u001b[43m]\u001b[49m\u001b[43m)\u001b[49m\n",
      "\u001b[36mFile \u001b[39m\u001b[32mf:\\FPGA\\GUSN\\.venv\\Lib\\site-packages\\tf_keras\\src\\utils\\traceback_utils.py:70\u001b[39m, in \u001b[36mfilter_traceback.<locals>.error_handler\u001b[39m\u001b[34m(*args, **kwargs)\u001b[39m\n\u001b[32m     67\u001b[39m     filtered_tb = _process_traceback_frames(e.__traceback__)\n\u001b[32m     68\u001b[39m     \u001b[38;5;66;03m# To get the full stack trace, call:\u001b[39;00m\n\u001b[32m     69\u001b[39m     \u001b[38;5;66;03m# `tf.debugging.disable_traceback_filtering()`\u001b[39;00m\n\u001b[32m---> \u001b[39m\u001b[32m70\u001b[39m     \u001b[38;5;28;01mraise\u001b[39;00m e.with_traceback(filtered_tb) \u001b[38;5;28;01mfrom\u001b[39;00m\u001b[38;5;250m \u001b[39m\u001b[38;5;28;01mNone\u001b[39;00m\n\u001b[32m     71\u001b[39m \u001b[38;5;28;01mfinally\u001b[39;00m:\n\u001b[32m     72\u001b[39m     \u001b[38;5;28;01mdel\u001b[39;00m filtered_tb\n",
      "\u001b[36mFile \u001b[39m\u001b[32m~\\AppData\\Local\\Temp\\__autograph_generated_filedhy1paq8.py:15\u001b[39m, in \u001b[36mouter_factory.<locals>.inner_factory.<locals>.tf__predict_function\u001b[39m\u001b[34m(iterator)\u001b[39m\n\u001b[32m     13\u001b[39m \u001b[38;5;28;01mtry\u001b[39;00m:\n\u001b[32m     14\u001b[39m     do_return = \u001b[38;5;28;01mTrue\u001b[39;00m\n\u001b[32m---> \u001b[39m\u001b[32m15\u001b[39m     retval_ = ag__.converted_call(ag__.ld(step_function), (ag__.ld(\u001b[38;5;28mself\u001b[39m), ag__.ld(iterator)), \u001b[38;5;28;01mNone\u001b[39;00m, fscope)\n\u001b[32m     16\u001b[39m \u001b[38;5;28;01mexcept\u001b[39;00m:\n\u001b[32m     17\u001b[39m     do_return = \u001b[38;5;28;01mFalse\u001b[39;00m\n",
      "\u001b[36mFile \u001b[39m\u001b[32m~\\AppData\\Local\\Temp\\__autograph_generated_fileaxmok7em.py:75\u001b[39m, in \u001b[36mouter_factory.<locals>.inner_factory.<locals>.tf__call\u001b[39m\u001b[34m(self, inputs, training, **kwargs)\u001b[39m\n\u001b[32m     73\u001b[39m     outputs = ag__.converted_call(ag__.ld(\u001b[38;5;28mself\u001b[39m).layer.call, (ag__.ld(inputs),), \u001b[38;5;28mdict\u001b[39m(**ag__.ld(kwargs)), fscope)\n\u001b[32m     74\u001b[39m outputs = ag__.Undefined(\u001b[33m'\u001b[39m\u001b[33moutputs\u001b[39m\u001b[33m'\u001b[39m)\n\u001b[32m---> \u001b[39m\u001b[32m75\u001b[39m \u001b[43mag__\u001b[49m\u001b[43m.\u001b[49m\u001b[43mif_stmt\u001b[49m\u001b[43m(\u001b[49m\u001b[33;43m'\u001b[39;49m\u001b[33;43mtraining\u001b[39;49m\u001b[33;43m'\u001b[39;49m\u001b[43m \u001b[49m\u001b[38;5;129;43;01min\u001b[39;49;00m\u001b[43m \u001b[49m\u001b[43mag__\u001b[49m\u001b[43m.\u001b[49m\u001b[43mld\u001b[49m\u001b[43m(\u001b[49m\u001b[43margs\u001b[49m\u001b[43m)\u001b[49m\u001b[43m,\u001b[49m\u001b[43m \u001b[49m\u001b[43mif_body_1\u001b[49m\u001b[43m,\u001b[49m\u001b[43m \u001b[49m\u001b[43melse_body_1\u001b[49m\u001b[43m,\u001b[49m\u001b[43m \u001b[49m\u001b[43mget_state_3\u001b[49m\u001b[43m,\u001b[49m\u001b[43m \u001b[49m\u001b[43mset_state_3\u001b[49m\u001b[43m,\u001b[49m\u001b[43m \u001b[49m\u001b[43m(\u001b[49m\u001b[33;43m'\u001b[39;49m\u001b[33;43moutputs\u001b[39;49m\u001b[33;43m'\u001b[39;49m\u001b[43m,\u001b[49m\u001b[43m)\u001b[49m\u001b[43m,\u001b[49m\u001b[43m \u001b[49m\u001b[32;43m1\u001b[39;49m\u001b[43m)\u001b[49m\n\u001b[32m     77\u001b[39m \u001b[38;5;28;01mdef\u001b[39;00m\u001b[38;5;250m \u001b[39m\u001b[34mget_state_5\u001b[39m():\n\u001b[32m     78\u001b[39m     \u001b[38;5;28;01mreturn\u001b[39;00m (do_return, retval_)\n",
      "\u001b[36mFile \u001b[39m\u001b[32m~\\AppData\\Local\\Temp\\__autograph_generated_fileaxmok7em.py:73\u001b[39m, in \u001b[36mouter_factory.<locals>.inner_factory.<locals>.tf__call.<locals>.else_body_1\u001b[39m\u001b[34m()\u001b[39m\n\u001b[32m     71\u001b[39m \u001b[38;5;28;01mdef\u001b[39;00m\u001b[38;5;250m \u001b[39m\u001b[34melse_body_1\u001b[39m():\n\u001b[32m     72\u001b[39m     \u001b[38;5;28;01mnonlocal\u001b[39;00m outputs\n\u001b[32m---> \u001b[39m\u001b[32m73\u001b[39m     outputs = \u001b[43mag__\u001b[49m\u001b[43m.\u001b[49m\u001b[43mconverted_call\u001b[49m\u001b[43m(\u001b[49m\u001b[43mag__\u001b[49m\u001b[43m.\u001b[49m\u001b[43mld\u001b[49m\u001b[43m(\u001b[49m\u001b[38;5;28;43mself\u001b[39;49m\u001b[43m)\u001b[49m\u001b[43m.\u001b[49m\u001b[43mlayer\u001b[49m\u001b[43m.\u001b[49m\u001b[43mcall\u001b[49m\u001b[43m,\u001b[49m\u001b[43m \u001b[49m\u001b[43m(\u001b[49m\u001b[43mag__\u001b[49m\u001b[43m.\u001b[49m\u001b[43mld\u001b[49m\u001b[43m(\u001b[49m\u001b[43minputs\u001b[49m\u001b[43m)\u001b[49m\u001b[43m,\u001b[49m\u001b[43m)\u001b[49m\u001b[43m,\u001b[49m\u001b[43m \u001b[49m\u001b[38;5;28;43mdict\u001b[39;49m\u001b[43m(\u001b[49m\u001b[43m*\u001b[49m\u001b[43m*\u001b[49m\u001b[43mag__\u001b[49m\u001b[43m.\u001b[49m\u001b[43mld\u001b[49m\u001b[43m(\u001b[49m\u001b[43mkwargs\u001b[49m\u001b[43m)\u001b[49m\u001b[43m)\u001b[49m\u001b[43m,\u001b[49m\u001b[43m \u001b[49m\u001b[43mfscope\u001b[49m\u001b[43m)\u001b[49m\n",
      "\u001b[31mValueError\u001b[39m: in user code:\n\n    File \"f:\\FPGA\\GUSN\\.venv\\Lib\\site-packages\\tf_keras\\src\\engine\\training.py\", line 2436, in predict_function  *\n        return step_function(self, iterator)\n    File \"f:\\FPGA\\GUSN\\.venv\\Lib\\site-packages\\tf_keras\\src\\engine\\training.py\", line 2421, in step_function  **\n        outputs = model.distribute_strategy.run(run_step, args=(data,))\n    File \"f:\\FPGA\\GUSN\\.venv\\Lib\\site-packages\\tf_keras\\src\\engine\\training.py\", line 2409, in run_step  **\n        outputs = model.predict_step(data)\n    File \"f:\\FPGA\\GUSN\\.venv\\Lib\\site-packages\\tf_keras\\src\\engine\\training.py\", line 2377, in predict_step\n        return self(x, training=False)\n    File \"f:\\FPGA\\GUSN\\.venv\\Lib\\site-packages\\tf_keras\\src\\utils\\traceback_utils.py\", line 70, in error_handler\n        raise e.with_traceback(filtered_tb) from None\n    File \"C:\\Users\\krzys\\AppData\\Local\\Temp\\__autograph_generated_fileaxmok7em.py\", line 75, in tf__call\n        ag__.if_stmt('training' in ag__.ld(args), if_body_1, else_body_1, get_state_3, set_state_3, ('outputs',), 1)\n    File \"C:\\Users\\krzys\\AppData\\Local\\Temp\\__autograph_generated_fileaxmok7em.py\", line 73, in else_body_1\n        outputs = ag__.converted_call(ag__.ld(self).layer.call, (ag__.ld(inputs),), dict(**ag__.ld(kwargs)), fscope)\n\n    ValueError: Exception encountered when calling layer 'quant_dense' (type QuantizeWrapperV2).\n    \n    in user code:\n    \n        File \"f:\\FPGA\\GUSN\\.venv\\Lib\\site-packages\\tensorflow_model_optimization\\python\\core\\quantization\\keras\\quantize_wrapper.py\", line 179, in call  *\n            outputs = self.layer.call(inputs, **kwargs)\n        File \"f:\\FPGA\\GUSN\\.venv\\Lib\\site-packages\\tf_keras\\src\\layers\\core\\dense.py\", line 241, in call  **\n            outputs = tf.matmul(a=inputs, b=self.kernel)\n    \n        ValueError: Dimensions must be equal, but are 28 and 784 for '{{node sequential/quant_dense/MatMul}} = MatMul[T=DT_FLOAT, grad_a=false, grad_b=false, transpose_a=false, transpose_b=false](sequential/quant_flatten/Reshape, sequential/quant_dense/LastValueQuant/FakeQuantWithMinMaxVars)' with input shapes: [?,28], [784,128].\n    \n    \n    Call arguments received by layer 'quant_dense' (type QuantizeWrapperV2):\n      • inputs=tf.Tensor(shape=(None, 28), dtype=float32)\n      • training=False\n      • kwargs=<class 'inspect._empty'>\n"
     ]
    }
   ],
   "source": [
    "q_aware_model.predict(x_test[0])"
   ]
  },
  {
   "cell_type": "code",
   "execution_count": 6,
   "metadata": {},
   "outputs": [
    {
     "name": "stdout",
     "output_type": "stream",
     "text": [
      "INFO:tensorflow:Assets written to: C:\\Users\\krzys\\AppData\\Local\\Temp\\tmp_koa0qsk\\assets\n"
     ]
    },
    {
     "name": "stderr",
     "output_type": "stream",
     "text": [
      "INFO:tensorflow:Assets written to: C:\\Users\\krzys\\AppData\\Local\\Temp\\tmp_koa0qsk\\assets\n",
      "f:\\FPGA\\GUSN\\.venv\\Lib\\site-packages\\tensorflow\\lite\\python\\convert.py:854: UserWarning: Statistics for quantized inputs were expected, but not specified; continuing anyway.\n",
      "  warnings.warn(\n"
     ]
    }
   ],
   "source": [
    "converter = tf.lite.TFLiteConverter.from_keras_model(q_aware_model)\n",
    "converter.optimizations = [tf.lite.Optimize.DEFAULT]\n",
    "\n",
    "quantized_tflite_model = converter.convert()"
   ]
  },
  {
   "cell_type": "code",
   "execution_count": 13,
   "metadata": {},
   "outputs": [
    {
     "name": "stderr",
     "output_type": "stream",
     "text": [
      "f:\\FPGA\\GUSN\\.venv\\Lib\\site-packages\\tensorflow\\lite\\python\\interpreter.py:457: UserWarning:     Warning: tf.lite.Interpreter is deprecated and is scheduled for deletion in\n",
      "    TF 2.20. Please use the LiteRT interpreter from the ai_edge_litert package.\n",
      "    See the [migration guide](https://ai.google.dev/edge/litert/migration)\n",
      "    for details.\n",
      "    \n",
      "  warnings.warn(_INTERPRETER_DELETION_WARNING)\n"
     ]
    },
    {
     "data": {
      "text/plain": [
       "{'serving_default': {'inputs': ['flatten_input'],\n",
       "  'outputs': ['quant_dense_1']}}"
      ]
     },
     "execution_count": 13,
     "metadata": {},
     "output_type": "execute_result"
    }
   ],
   "source": [
    "interpreter = tf.lite.Interpreter(model_content=quantized_tflite_model)\n",
    "signatures = interpreter.get_signature_list()\n",
    "signatures"
   ]
  },
  {
   "cell_type": "code",
   "execution_count": null,
   "metadata": {},
   "outputs": [],
   "source": []
  }
 ],
 "metadata": {
  "kernelspec": {
   "display_name": ".venv",
   "language": "python",
   "name": "python3"
  },
  "language_info": {
   "codemirror_mode": {
    "name": "ipython",
    "version": 3
   },
   "file_extension": ".py",
   "mimetype": "text/x-python",
   "name": "python",
   "nbconvert_exporter": "python",
   "pygments_lexer": "ipython3",
   "version": "3.12.9"
  }
 },
 "nbformat": 4,
 "nbformat_minor": 2
}
